{
 "cells": [
  {
   "cell_type": "code",
   "execution_count": 17,
   "metadata": {},
   "outputs": [],
   "source": [
    "import matplotlib.pyplot as plt\n",
    "import numpy as np"
   ]
  },
  {
   "cell_type": "code",
   "execution_count": 18,
   "metadata": {},
   "outputs": [],
   "source": [
    "x = np.linspace(0, 5, 11)\n",
    "y = np.sin(x)"
   ]
  },
  {
   "cell_type": "code",
   "execution_count": null,
   "metadata": {},
   "outputs": [],
   "source": [
    "fig, [a1, a2] = plt.subplots(1, 2, figsize=(10, 5))\n",
    "\n",
    "a1.plot(x, y, \"r*:\",label=\"$sin(x)$\")\n",
    "a1.set_title(\"X - Y\")\n",
    "a1.set_xlabel(\"X\")\n",
    "a1.set_ylabel(\"Y\")\n",
    "# para mostrar el label es necesario poner el legend\n",
    "a1.legend()\n",
    "\n",
    "a2.plot(y, x, 'g.--', label=\"sin(x)\")\n",
    "a2.set_title(\"Y - X\")\n",
    "a2.set_xlabel(\"Y\")\n",
    "a2.set_ylabel(\"X\")\n",
    "a2.legend()\n",
    "\n",
    "plt.show()"
   ]
  },
  {
   "cell_type": "code",
   "execution_count": null,
   "metadata": {},
   "outputs": [],
   "source": [
    "plt.plot(x, y, \"+-.\", color=\"purple\", label=\"$sin(x)$\")\n",
    "plt.title(\"x-y\")\n",
    "# plt.legend() por defecto lo pone donde cree que es mas conveniente\n",
    "# loc: define la posicion de la leyenda (upper/lower/center) (left/center/right) -\"center center\" -> \"center\"\n",
    "# bbox_to_anchor: define la posicion de la leyenda en el eje x e y\n",
    "plt.legend(bbox_to_anchor=(1.05, 1.05))\n",
    "plt.ylabel(\"X\")\n",
    "plt.ylabel(\"Y\")\n",
    "\n",
    "plt.show()"
   ]
  }
 ],
 "metadata": {
  "kernelspec": {
   "display_name": "t12",
   "language": "python",
   "name": "python3"
  },
  "language_info": {
   "codemirror_mode": {
    "name": "ipython",
    "version": 3
   },
   "file_extension": ".py",
   "mimetype": "text/x-python",
   "name": "python",
   "nbconvert_exporter": "python",
   "pygments_lexer": "ipython3",
   "version": "3.12.4"
  }
 },
 "nbformat": 4,
 "nbformat_minor": 2
}
