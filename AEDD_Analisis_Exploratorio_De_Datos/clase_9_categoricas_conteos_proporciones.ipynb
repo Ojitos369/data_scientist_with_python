{
 "cells": [
  {
   "cell_type": "code",
   "execution_count": null,
   "metadata": {},
   "outputs": [],
   "source": [
    "# pip install --upgrade palmerpenguins numpy pandas seaborn matplotlib empiricaldist statsmodels scikit-learn pyjanitor session-info\n",
    "import empiricaldist\n",
    "import janitor\n",
    "import matplotlib.pyplot as plt\n",
    "import numpy as np\n",
    "import palmerpenguins\n",
    "import pandas as pd\n",
    "import scipy.stats\n",
    "import seaborn as sns\n",
    "import sklearn.metrics\n",
    "import statsmodels.api as sm\n",
    "import statsmodels.formula.api as smf\n",
    "import statsmodels.stats as ss\n"
   ]
  },
  {
   "cell_type": "code",
   "execution_count": null,
   "metadata": {},
   "outputs": [],
   "source": [
    "%matplotlib inline\n",
    "sns.set_style(style='whitegrid')\n",
    "sns.set_context(context='notebook')\n",
    "plt.rcParams['figure.figsize'] = (11, 9.4)\n",
    "\n",
    "penguin_color = {\n",
    "    'Adelie': '#ff6602ff',\n",
    "    'Gentoo': '#0f7175ff',\n",
    "    'Chinstrap': '#c65dc9ff'\n",
    "}"
   ]
  },
  {
   "cell_type": "code",
   "execution_count": null,
   "metadata": {},
   "outputs": [],
   "source": [
    "pnr = palmerpenguins.load_penguins_raw()\n",
    "pn = palmerpenguins.load_penguins()"
   ]
  },
  {
   "cell_type": "code",
   "execution_count": null,
   "metadata": {},
   "outputs": [],
   "source": [
    "pn.head(3)"
   ]
  },
  {
   "cell_type": "code",
   "execution_count": null,
   "metadata": {},
   "outputs": [],
   "source": [
    "pn.describe()"
   ]
  },
  {
   "cell_type": "code",
   "execution_count": null,
   "metadata": {},
   "outputs": [],
   "source": [
    "pn.describe(include=\"all\")"
   ]
  },
  {
   "cell_type": "markdown",
   "metadata": {},
   "source": [
    "### Analizar Variables Categoricas y numericas por separado"
   ]
  },
  {
   "cell_type": "code",
   "execution_count": null,
   "metadata": {},
   "outputs": [],
   "source": [
    "# Solo numericas\n",
    "# pn.describe() # solo numericas por de fault\n",
    "# para ser explicitos\n",
    "pn.describe(include=[np.number])"
   ]
  },
  {
   "cell_type": "code",
   "execution_count": null,
   "metadata": {},
   "outputs": [],
   "source": [
    "# Solo Categoricas\n",
    "pn.describe(include=object)"
   ]
  },
  {
   "cell_type": "code",
   "execution_count": null,
   "metadata": {},
   "outputs": [],
   "source": [
    "# Categorias de forma especifica\n",
    "(\n",
    "    pn\n",
    "    .astype({\n",
    "        \"species\": \"category\",\n",
    "        \"island\": \"category\",\n",
    "        \"sex\": \"category\"\n",
    "    })\n",
    ")"
   ]
  },
  {
   "cell_type": "code",
   "execution_count": null,
   "metadata": {},
   "outputs": [],
   "source": [
    "(\n",
    "    pn\n",
    "    .astype({\n",
    "        \"species\": \"category\",\n",
    "        \"island\": \"category\",\n",
    "        \"sex\": \"category\"\n",
    "    })\n",
    "    .describe(include=object)\n",
    ")"
   ]
  },
  {
   "cell_type": "code",
   "execution_count": null,
   "metadata": {},
   "outputs": [],
   "source": [
    "(\n",
    "    pn\n",
    "    .astype({\n",
    "        \"species\": \"category\",\n",
    "        \"island\": \"category\",\n",
    "        \"sex\": \"category\"\n",
    "    })\n",
    "    .describe(include=\"category\")\n",
    ")\n",
    "# Cuando se ponen como category pandas permite hacer mas cosas (pendientes por ver) (buscar en info y volver aqui a plasmarlo)"
   ]
  },
  {
   "cell_type": "code",
   "execution_count": null,
   "metadata": {},
   "outputs": [],
   "source": [
    "(\n",
    "    pn\n",
    "    .species\n",
    "    .value_counts()\n",
    "    .plot(\n",
    "        kind=\"bar\"\n",
    "    )\n",
    ")"
   ]
  },
  {
   "cell_type": "code",
   "execution_count": null,
   "metadata": {},
   "outputs": [],
   "source": [
    "sns.catplot(\n",
    "    data=pn,\n",
    "    x=\"species\",\n",
    "    kind=\"count\",\n",
    "    hue=\"species\",\n",
    "    palette=penguin_color\n",
    ")"
   ]
  },
  {
   "cell_type": "code",
   "execution_count": null,
   "metadata": {},
   "outputs": [],
   "source": [
    "(\n",
    "    pn\n",
    "    .value_counts(\"species\", sort=True)\n",
    "    .reset_index(name=\"count\")\n",
    "    .pipe(\n",
    "        lambda df: (\n",
    "            sns.barplot(\n",
    "                data=df,\n",
    "                x=\"species\",\n",
    "                y=\"count\",\n",
    "                hue=\"species\",\n",
    "                palette=penguin_color\n",
    "            )\n",
    "        )\n",
    "    )\n",
    ")"
   ]
  },
  {
   "cell_type": "code",
   "execution_count": null,
   "metadata": {},
   "outputs": [],
   "source": [
    "(\n",
    "    pn\n",
    "    .assign(x=\"\")\n",
    "    .pipe(\n",
    "        lambda df: (\n",
    "             sns.displot(\n",
    "                 data=df,\n",
    "                 x=\"x\",\n",
    "                 hue=\"species\",\n",
    "                 multiple=\"fill\",\n",
    "                 palette=penguin_color\n",
    "             )\n",
    "        )\n",
    "    )\n",
    ")"
   ]
  },
  {
   "cell_type": "code",
   "execution_count": null,
   "metadata": {},
   "outputs": [],
   "source": [
    "(\n",
    "    pn\n",
    "    .island\n",
    "    .value_counts()\n",
    "    .reset_index(name=\"count\")\n",
    "    .pipe(\n",
    "        lambda df: (\n",
    "            sns.barplot(\n",
    "                data=df,\n",
    "                x=\"island\",\n",
    "                y=\"count\",\n",
    "                hue=\"island\"\n",
    "            )\n",
    "        )\n",
    "    )\n",
    ")"
   ]
  },
  {
   "cell_type": "code",
   "execution_count": null,
   "metadata": {},
   "outputs": [],
   "source": [
    "sns.histplot(\n",
    "    data=pn.assign(x=\"\"),\n",
    "    x=\"x\",\n",
    "    hue=\"island\",\n",
    "    multiple=\"fill\"\n",
    ")"
   ]
  },
  {
   "cell_type": "code",
   "execution_count": null,
   "metadata": {},
   "outputs": [],
   "source": [
    "(\n",
    "    pn\n",
    "    .assign(x=\"\")\n",
    "    .pipe(\n",
    "        lambda df: (\n",
    "            sns.histplot(\n",
    "                data=df,\n",
    "                x=\"x\",\n",
    "                hue=\"island\",\n",
    "                multiple=\"fill\"\n",
    "            )\n",
    "        )\n",
    "    )\n",
    ")"
   ]
  },
  {
   "cell_type": "code",
   "execution_count": 36,
   "metadata": {},
   "outputs": [
    {
     "data": {
      "text/plain": [
       "<seaborn.axisgrid.FacetGrid at 0x795dbbd4a900>"
      ]
     },
     "execution_count": 36,
     "metadata": {},
     "output_type": "execute_result"
    },
    {
     "data": {
      "image/png": "[encoded data removed]",
      "text/plain": [
       "<Figure size 607.875x500 with 1 Axes>"
      ]
     },
     "metadata": {},
     "output_type": "display_data"
    }
   ],
   "source": [
    "sns.catplot(\n",
    "    data=pn,\n",
    "    x=\"sex\",\n",
    "    kind=\"count\",\n",
    "    hue=\"sex\"\n",
    ")"
   ]
  },
  {
   "cell_type": "code",
   "execution_count": 40,
   "metadata": {},
   "outputs": [
    {
     "data": {
      "text/plain": [
       "<Axes: xlabel='x', ylabel='Count'>"
      ]
     },
     "execution_count": 40,
     "metadata": {},
     "output_type": "execute_result"
    },
    {
     "data": {
      "image/png": "[encoded data removed]",
      "text/plain": [
       "<Figure size 1100x940 with 1 Axes>"
      ]
     },
     "metadata": {},
     "output_type": "display_data"
    }
   ],
   "source": [
    "(\n",
    "    pn\n",
    "    .assign(x=\"\")\n",
    "    .pipe(\n",
    "        lambda df: (\n",
    "            sns.histplot(\n",
    "                data=df,\n",
    "                x=\"x\",\n",
    "                hue=\"sex\",\n",
    "                multiple=\"fill\"\n",
    "            )\n",
    "        )\n",
    "    )\n",
    ")"
   ]
  }
 ],
 "metadata": {
  "kernelspec": {
   "display_name": "pyd",
   "language": "python",
   "name": "python3"
  },
  "language_info": {
   "codemirror_mode": {
    "name": "ipython",
    "version": 3
   },
   "file_extension": ".py",
   "mimetype": "text/x-python",
   "name": "python",
   "nbconvert_exporter": "python",
   "pygments_lexer": "ipython3",
   "version": "3.12.7"
  }
 },
 "nbformat": 4,
 "nbformat_minor": 2
}
