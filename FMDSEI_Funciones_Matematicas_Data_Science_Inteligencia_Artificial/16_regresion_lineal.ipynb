{
 "cells": [
  {
   "cell_type": "code",
   "execution_count": 36,
   "metadata": {},
   "outputs": [],
   "source": [
    "import matplotlib.pyplot as plt\n",
    "import numpy as np"
   ]
  },
  {
   "cell_type": "code",
   "execution_count": 37,
   "metadata": {},
   "outputs": [],
   "source": [
    "x = np.array([1.2, 2, 3.2, 2.5, 5, 6, 4, 8])\n",
    "y = np.array([2, 3, 3.4, 3.1, 4, 4.7, 3.8, 7])"
   ]
  },
  {
   "cell_type": "code",
   "execution_count": 38,
   "metadata": {},
   "outputs": [
    {
     "data": {
      "image/png": "[encoded data removed]",
      "text/plain": [
       "<Figure size 640x480 with 1 Axes>"
      ]
     },
     "metadata": {},
     "output_type": "display_data"
    }
   ],
   "source": [
    "plt.scatter(x, y)\n",
    "plt.show()"
   ]
  },
  {
   "cell_type": "code",
   "execution_count": 39,
   "metadata": {},
   "outputs": [],
   "source": [
    "import random"
   ]
  },
  {
   "cell_type": "code",
   "execution_count": 58,
   "metadata": {},
   "outputs": [
    {
     "name": "stdout",
     "output_type": "stream",
     "text": [
      "b: 1 m: 1 error: 1.95\n",
      "b: 1 m: 1 error: 1.95\n",
      "b: 0.97 m: 0.9 error: 0.93\n",
      "b: 0.97 m: 0.9 error: 0.93\n",
      "b: 0.94 m: 0.85 error: 0.51\n",
      "b: 0.94 m: 0.85 error: 0.51\n",
      "b: 0.92 m: 0.78 error: 0.24\n",
      "b: 0.92 m: 0.78 error: 0.24\n",
      "b: 0.89 m: 0.74 error: 0.17\n",
      "b: 0.89 m: 0.74 error: 0.17\n",
      "b: 0.95 m: 0.78 error: 0.25\n",
      "b: 0.95 m: 0.73 error: 0.16\n",
      "b: 0.95 m: 0.73 error: 0.16\n",
      "b: 0.91 m: 0.69 error: 0.18\n",
      "b: 0.9 m: 0.78 error: 0.25\n",
      "b: 1.03 m: 0.78 error: 0.28\n",
      "b: 0.85 m: 0.72 error: 0.18\n",
      "b: 0.85 m: 0.72 error: 0.18\n",
      "b: 0.8 m: 0.74 error: 0.19\n",
      "b: 0.88 m: 0.65 error: 0.3\n",
      "b: 0.79 m: 0.7 error: 0.23\n",
      "b: 0.79 m: 0.7 error: 0.23\n",
      "b: 0.7 m: 0.63 error: 0.54\n",
      "b: 0.8 m: 0.67 error: 0.3\n",
      "b: 0.8 m: 0.67 error: 0.3\n",
      "b: 0.71 m: 0.72 error: 0.24\n",
      "b: 0.71 m: 0.72 error: 0.24\n",
      "b: 0.67 m: 0.69 error: 0.35\n",
      "b: 0.78 m: 0.8 error: 0.24\n",
      "b: 0.78 m: 0.8 error: 0.24\n",
      "b: 0.78 m: 0.74 error: 0.19\n",
      "b: 0.78 m: 0.74 error: 0.19\n",
      "b: 0.78 m: 0.76 error: 0.2\n",
      "b: 0.73 m: 0.77 error: 0.21\n",
      "b: 0.8 m: 0.79 error: 0.23\n",
      "b: 0.77 m: 0.81 error: 0.28\n",
      "b: 0.88 m: 0.71 error: 0.17\n",
      "b: 0.88 m: 0.71 error: 0.17\n",
      "b: 0.84 m: 0.71 error: 0.19\n",
      "b: 0.94 m: 0.61 error: 0.37\n",
      "b: 0.9 m: 0.71 error: 0.17\n",
      "b: 0.9 m: 0.71 error: 0.17\n",
      "b: 0.95 m: 0.78 error: 0.24\n",
      "b: 0.87 m: 0.75 error: 0.18\n",
      "b: 0.87 m: 0.75 error: 0.18\n",
      "b: 0.89 m: 0.8 error: 0.29\n",
      "b: 0.84 m: 0.84 error: 0.41\n",
      "b: 0.89 m: 0.8 error: 0.3\n",
      "b: 0.89 m: 0.8 error: 0.3\n",
      "b: 0.87 m: 0.85 error: 0.45\n",
      "b: 0.89 m: 0.89 error: 0.7\n",
      "b: 0.81 m: 0.83 error: 0.36\n",
      "b: 0.81 m: 0.83 error: 0.36\n",
      "b: 0.9 m: 0.86 error: 0.56\n",
      "b: 0.79 m: 0.74 error: 0.19\n",
      "b: 0.79 m: 0.74 error: 0.19\n",
      "b: 0.71 m: 0.64 error: 0.49\n",
      "b: 0.74 m: 0.77 error: 0.21\n",
      "b: 0.74 m: 0.77 error: 0.21\n",
      "b: 0.7 m: 0.86 error: 0.41\n",
      "b: 0.75 m: 0.73 error: 0.21\n",
      "b: 0.75 m: 0.73 error: 0.21\n",
      "b: 0.71 m: 0.74 error: 0.21\n",
      "b: 0.84 m: 0.83 error: 0.35\n",
      "b: 0.7 m: 0.66 error: 0.43\n",
      "b: 0.72 m: 0.64 error: 0.47\n",
      "b: 0.71 m: 0.72 error: 0.24\n",
      "b: 0.71 m: 0.72 error: 0.24\n",
      "b: 0.7 m: 0.7 error: 0.28\n",
      "b: 0.64 m: 0.78 error: 0.23\n",
      "b: 0.64 m: 0.78 error: 0.23\n",
      "b: 0.69 m: 0.82 error: 0.28\n",
      "b: 0.66 m: 0.75 error: 0.24\n",
      "b: 0.66 m: 0.75 error: 0.24\n",
      "b: 0.76 m: 0.82 error: 0.31\n",
      "b: 0.67 m: 0.71 error: 0.29\n",
      "b: 0.67 m: 0.71 error: 0.29\n",
      "b: 0.77 m: 0.71 error: 0.22\n",
      "b: 0.77 m: 0.71 error: 0.22\n",
      "b: 0.81 m: 0.8 error: 0.25\n",
      "b: 0.68 m: 0.74 error: 0.23\n",
      "b: 0.68 m: 0.74 error: 0.23\n",
      "b: 0.75 m: 0.8 error: 0.24\n",
      "b: 0.58 m: 0.79 error: 0.25\n",
      "b: 0.65 m: 0.65 error: 0.52\n",
      "b: 0.62 m: 0.68 error: 0.41\n",
      "b: 0.62 m: 0.68 error: 0.41\n",
      "b: 0.68 m: 0.76 error: 0.22\n",
      "b: 0.68 m: 0.76 error: 0.22\n",
      "b: 0.77 m: 0.72 error: 0.21\n",
      "b: 0.77 m: 0.72 error: 0.21\n",
      "b: 0.76 m: 0.72 error: 0.21\n",
      "b: 0.8 m: 0.74 error: 0.19\n",
      "b: 0.8 m: 0.74 error: 0.19\n",
      "b: 0.71 m: 0.84 error: 0.34\n",
      "b: 0.7 m: 0.68 error: 0.34\n",
      "b: 0.78 m: 0.68 error: 0.28\n",
      "b: 0.78 m: 0.68 error: 0.28\n",
      "b: 0.68 m: 0.65 error: 0.51\n",
      "b: 0.73 m: 0.7 error: 0.28\n",
      "b: 0.73 m: 0.7 error: 0.28\n"
     ]
    }
   ],
   "source": [
    "m = 1\n",
    "b = 1\n",
    "valid_err = 0.1\n",
    "err_ant = 1000\n",
    "best = [m, b]\n",
    "\n",
    "def f(x):\n",
    "    return m*x + b\n",
    "\n",
    "def error(y_hat):\n",
    "    return np.sum((y - y_hat)**2) / len(y)\n",
    "\n",
    "n = 100\n",
    "\n",
    "for i in range(n):\n",
    "    y_hat = f(x)\n",
    "    err = error(y_hat)\n",
    "    print(f\"b: {round(b, 2)} m: {round(m, 2)} error: {round(err, 2)}\")\n",
    "    \n",
    "    if err < err_ant:\n",
    "        best = [m, b]\n",
    "    else:\n",
    "        m = best[0] + random.uniform(-0.1, 0.1)\n",
    "        b = best[1] + random.uniform(-0.1, 0.1)\n",
    "    err_ant = err\n",
    "    \n",
    "    if err <= valid_err:\n",
    "        print(\"r: \", round(m, 2), round(b, 2))\n",
    "        break\n",
    "\n",
    "m, b = best\n",
    "y_hat = f(x)\n",
    "err = error(y_hat)\n",
    "\n",
    "print(f\"b: {round(b, 2)} m: {round(m, 2)} error: {round(err, 2)}\")\n",
    "\n"
   ]
  },
  {
   "cell_type": "code",
   "execution_count": 59,
   "metadata": {},
   "outputs": [
    {
     "data": {
      "image/png": "[encoded data removed]",
      "text/plain": [
       "<Figure size 640x480 with 1 Axes>"
      ]
     },
     "metadata": {},
     "output_type": "display_data"
    }
   ],
   "source": [
    "plt.scatter(x, y)\n",
    "# 0.69 0.91\n",
    "\n",
    "# b: 0.76 m: 0.78 error: 0.22 -> len\n",
    "# b: 1.09 m: 0.66 error: 1.19\n",
    "\n",
    "xo = x.copy()\n",
    "xo.sort()\n",
    "yo = f(xo)\n",
    "\n",
    "plt.plot(xo, yo, color='red')\n",
    "plt.show()"
   ]
  }
 ],
 "metadata": {
  "kernelspec": {
   "display_name": "pyd",
   "language": "python",
   "name": "python3"
  },
  "language_info": {
   "codemirror_mode": {
    "name": "ipython",
    "version": 3
   },
   "file_extension": ".py",
   "mimetype": "text/x-python",
   "name": "python",
   "nbconvert_exporter": "python",
   "pygments_lexer": "ipython3",
   "version": "3.12.4"
  }
 },
 "nbformat": 4,
 "nbformat_minor": 2
}
