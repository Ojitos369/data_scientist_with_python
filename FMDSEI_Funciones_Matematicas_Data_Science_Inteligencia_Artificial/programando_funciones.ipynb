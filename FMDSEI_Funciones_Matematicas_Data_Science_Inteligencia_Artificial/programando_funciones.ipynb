{
  "cells": [
    {
      "cell_type": "markdown",
      "metadata": {
        "id": "vH4sOMr9N-1O"
      },
      "source": [
        "### Librerías\n"
      ]
    },
    {
      "cell_type": "code",
      "execution_count": 43,
      "metadata": {
        "id": "_eH8kVUMMmkK"
      },
      "outputs": [],
      "source": [
        "import matplotlib.pyplot as plt   # librería para graficar\n",
        "import numpy as np                # librería para manejo de vectores y utilidades matemáticas"
      ]
    },
    {
      "cell_type": "code",
      "execution_count": 44,
      "metadata": {},
      "outputs": [],
      "source": [
        "plt.style.use(\"dark_background\")"
      ]
    },
    {
      "cell_type": "markdown",
      "metadata": {
        "id": "-y2aX5rENwhH"
      },
      "source": [
        "# Funciones algebraicas"
      ]
    },
    {
      "cell_type": "markdown",
      "metadata": {
        "id": "2yBuQZflF0UX"
      },
      "source": [
        "### Función lineal\n",
        "\n",
        "Tiene la forma de $$f(x)=mx + b$$ donde $m$ y $b$  $\\in R$.\n",
        "\n",
        "$m$ puede ser calculada por: $$m=\\frac{y_{2}-y_{1}}{x_{2}-x_{1}}$$\n",
        "\n",
        "y $b$ es el punto de corte con el eje $y$. Su dominio es $Dom_{f} = (-\\infty, \\infty)$. Su imagen es $Im_{f} = (-\\infty, \\infty)$\n",
        "\n",
        "\n"
      ]
    },
    {
      "cell_type": "code",
      "execution_count": null,
      "metadata": {
        "colab": {
          "base_uri": "https://localhost:8080/",
          "height": 265
        },
        "id": "n3vMv_IGHGpy",
        "outputId": "22ac8e63-7078-41c3-e9b6-676d2aa07ea8"
      },
      "outputs": [],
      "source": [
        "N = 100\n",
        "m = 1\n",
        "b = 3\n",
        "\n",
        "def f(x):\n",
        "  return m * x + b\n",
        "\n",
        "x = np.linspace(-10, 10, N)\n",
        "\n",
        "y = f(x)\n",
        "\n",
        "plt.plot(x, y)\n",
        "plt.show()"
      ]
    },
    {
      "cell_type": "markdown",
      "metadata": {
        "id": "FflFWNqjJCuO"
      },
      "source": [
        "### Funciones polinómicas\n",
        "\n",
        "Tiene la forma de $$P(x)=a_{n}x^{n} + a_{n-1}x^{n-1}+...+a_{2}x^{2}+a_{1}x + a_{1}$$\n",
        "\n",
        "a una función que tiene esta forma se le llama polinomio de grado $n$. A los elementos $a$ los llamaremos coeficientes donde $a \\in R$.\n",
        "\n",
        "**Por ejemplo:**\n",
        "\n",
        "$$P(x)= 2x^{7} - x^{4} + 3x^{2} + 4$$\n",
        "\n",
        "que es un polinomio de grado 7.\n",
        "\n",
        "\n",
        "### Funciones potencia\n",
        "\n",
        "Hay unas funciones que son un caso particular de las funciones polinómicas que son las funciones potencia, las cuales tienen la forma:\n",
        "\n",
        "\n",
        "$$f(x)= x^{a}, a \\in R$$\n",
        "\n",
        "\n",
        "**Por ejemplo:**\n",
        "\n",
        "$$f(x)= x^{2}$$\n",
        "\n",
        "El dominio de $f(x)=x^{2}$ es $Dom_{f} = (-\\infty, \\infty)$. Su imagen es $Im_{f} = [0, \\infty)$\n",
        "\n",
        "\n",
        "\n"
      ]
    },
    {
      "cell_type": "code",
      "execution_count": null,
      "metadata": {
        "colab": {
          "base_uri": "https://localhost:8080/",
          "height": 276
        },
        "id": "v5EI228kb6NK",
        "outputId": "e83263c8-717f-4f52-e8f6-0c0f1f0e5116"
      },
      "outputs": [],
      "source": [
        "plt.figure(figsize=(10, 5))\n",
        "\n",
        "def f(x):\n",
        "    return (2*x**5) - (x**4) + (3*x**2) + 4\n",
        "\n",
        "\n",
        "y = f(x)\n",
        "plt.plot(x, y)\n",
        "plt.show()"
      ]
    },
    {
      "cell_type": "code",
      "execution_count": null,
      "metadata": {},
      "outputs": [],
      "source": [
        "plt.figure(figsize=(10, 5))\n",
        "\n",
        "def f(x):\n",
        "    return x**7\n",
        "\n",
        "\n",
        "y = f(x)\n",
        "plt.plot(x, y)\n",
        "plt.show()"
      ]
    },
    {
      "cell_type": "markdown",
      "metadata": {
        "id": "K6HsXY0OmJK8"
      },
      "source": [
        "# Funciones trascendentes\n",
        "\n",
        "Son funciones que no pueden ser expresadas con polinomios."
      ]
    },
    {
      "cell_type": "markdown",
      "metadata": {
        "id": "5-SPisguvJOv"
      },
      "source": [
        "### Funciones trigonométricas\n",
        "\n",
        "Algunos ejemplos son las funciones $cos(x)$, $sen(x)$ y $tan(x)$"
      ]
    },
    {
      "cell_type": "code",
      "execution_count": null,
      "metadata": {
        "colab": {
          "base_uri": "https://localhost:8080/",
          "height": 282
        },
        "id": "UUcfkDvwjCiU",
        "outputId": "17de2fc4-6227-4788-d67e-df7c3854926f"
      },
      "outputs": [],
      "source": [
        "def f(x):\n",
        "    return np.tan(x) * np.tan(x**2)\n",
        "\n",
        "y = f(x)\n",
        "\n",
        "plt.plot(x, y)\n",
        "plt.show()"
      ]
    },
    {
      "cell_type": "markdown",
      "metadata": {
        "id": "fD5TzUHQz3L0"
      },
      "source": [
        "### Función exponencial\n",
        "\n",
        "Tienen la forma de $$f(x)=a^x$$ donde la base $a$ es una constante positiva. Un gran ejemplo de una función exponencial es usando la base como el número de euler:\n",
        "\n",
        "$$f(x)=e^x$$"
      ]
    },
    {
      "cell_type": "code",
      "execution_count": null,
      "metadata": {
        "colab": {
          "base_uri": "https://localhost:8080/",
          "height": 282
        },
        "id": "Ax2KATylz7SQ",
        "outputId": "076727b4-6402-4668-83eb-4982538e29e0"
      },
      "outputs": [],
      "source": [
        "def f(x):\n",
        "    return np.exp(x)\n",
        "\n",
        "y = f(x)\n",
        "\n",
        "plt.plot(x, y)\n",
        "plt.show()"
      ]
    },
    {
      "cell_type": "markdown",
      "metadata": {
        "id": "sCuI2UVA046t"
      },
      "source": [
        "### Función logaritmo\n",
        "\n",
        "El logaritmo está definido por la **relación**:\n",
        "\n",
        "$$log_{b}(x) = n \\Longleftrightarrow x=b^n$$\n",
        "\n",
        "donde:\n",
        "\n",
        "\n",
        "\n",
        "*   $b$ es la base.\n",
        "*   $n$ es el exponente al que está elevado la base.\n",
        "*   $x$ es el resultado de elevar la base $b$ al exponente $n$\n",
        "\n",
        "**Ejemplo:**\n",
        "\n",
        "Teniendo b=2 y n=8, entonces:\n",
        "\n",
        "$$2^8=256$$\n",
        "\n",
        "Por lo que $x=256$. Calculando el logaritmo base 2 de $x$ es:\n",
        "\n",
        "$$log_{2}(256) = 8$$\n",
        "\n",
        "\n",
        "\n"
      ]
    },
    {
      "cell_type": "code",
      "execution_count": null,
      "metadata": {
        "colab": {
          "base_uri": "https://localhost:8080/",
          "height": 282
        },
        "id": "e2HWt9k746Un",
        "outputId": "805d3801-4c96-4fb9-a1d0-1cca0bd4717f"
      },
      "outputs": [],
      "source": [
        "def f(x):\n",
        "    return np.log2(x)\n",
        "\n",
        "xl = np.linspace(0.1, 10, N)\n",
        "y = f(xl)\n",
        "\n",
        "plt.plot(xl, y)\n",
        "plt.show()"
      ]
    },
    {
      "cell_type": "markdown",
      "metadata": {
        "id": "6Rz2Ofe_8zPM"
      },
      "source": [
        "# Función seccionada\n",
        "\n",
        "Son funciones que tienen diferentes valores definidos por un intervalo. Por ejemplo la función escalón de Heaviside:\n",
        "\n",
        "$$H(x) =\n",
        "     \\begin{cases}\n",
        "        0, &\\quad \\text{para, } x < 0 \\\\\n",
        "        1,  &\\quad\\text{para. } x \\ge 0 \\\\\n",
        "     \\end{cases}\n",
        "$$"
      ]
    },
    {
      "cell_type": "code",
      "execution_count": 88,
      "metadata": {
        "colab": {
          "base_uri": "https://localhost:8080/",
          "height": 282
        },
        "id": "aWvsXZDzLl0r",
        "outputId": "4e2022ee-dca4-46a9-ff83-1e3c302dba70"
      },
      "outputs": [
        {
          "data": {
            "image/png": "[encoded data removed]",
            "text/plain": [
              "<Figure size 640x480 with 1 Axes>"
            ]
          },
          "metadata": {},
          "output_type": "display_data"
        }
      ],
      "source": [
        "\n",
        "def f(x):\n",
        "    h = np.zeros(len(x))\n",
        "    for i, n in enumerate(x):\n",
        "        h[i] = 0 if int(n % 2) == 0 else np.tan(n)\n",
        "    return h\n",
        "\n",
        "y = f(x)\n",
        "\n",
        "plt.plot(x, y)\n",
        "plt.show()"
      ]
    }
  ],
  "metadata": {
    "colab": {
      "provenance": []
    },
    "kernelspec": {
      "display_name": "Python 3",
      "name": "python3"
    },
    "language_info": {
      "codemirror_mode": {
        "name": "ipython",
        "version": 3
      },
      "file_extension": ".py",
      "mimetype": "text/x-python",
      "name": "python",
      "nbconvert_exporter": "python",
      "pygments_lexer": "ipython3",
      "version": "3.12.4"
    }
  },
  "nbformat": 4,
  "nbformat_minor": 0
}
