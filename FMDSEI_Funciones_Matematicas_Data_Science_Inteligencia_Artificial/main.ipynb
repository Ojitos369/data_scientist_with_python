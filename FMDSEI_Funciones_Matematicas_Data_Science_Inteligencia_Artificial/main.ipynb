{
 "cells": [
  {
   "cell_type": "code",
   "execution_count": 1,
   "metadata": {},
   "outputs": [],
   "source": [
    "import pandas as pd\n",
    "import seaborn as sns\n",
    "import matplotlib.pyplot as plt\n",
    "import numpy as np\n",
    "import random"
   ]
  },
  {
   "cell_type": "code",
   "execution_count": null,
   "metadata": {},
   "outputs": [],
   "source": [
    "df = pd.read_csv('/home/ojitos369/Documents/progra/ojitos369/lrn/ds_con_py/myd/files/hits.csv')\n",
    "df.head(3)"
   ]
  },
  {
   "cell_type": "code",
   "execution_count": null,
   "metadata": {},
   "outputs": [],
   "source": [
    "df.info()"
   ]
  },
  {
   "cell_type": "code",
   "execution_count": null,
   "metadata": {},
   "outputs": [],
   "source": [
    "df.describe()"
   ]
  },
  {
   "cell_type": "code",
   "execution_count": null,
   "metadata": {},
   "outputs": [],
   "source": [
    "df.groupby(\"Genre\").size()"
   ]
  },
  {
   "cell_type": "code",
   "execution_count": null,
   "metadata": {},
   "outputs": [],
   "source": [
    "data = df.loc[:, [\"Genre\", \"Popularity\", \"Year\"]]\n",
    "data.fillna(0, inplace=True)\n",
    "data"
   ]
  },
  {
   "cell_type": "code",
   "execution_count": null,
   "metadata": {},
   "outputs": [],
   "source": [
    "plt.figure(figsize=(10, 5))\n",
    "sns.scatterplot(data=data, x=\"Year\", y=\"Popularity\", hue=\"Genre\")\n",
    "plt.legend(loc=\"center\", bbox_to_anchor=(1.2, 0.5))\n",
    "plt.show()"
   ]
  },
  {
   "cell_type": "code",
   "execution_count": 9,
   "metadata": {},
   "outputs": [],
   "source": [
    "pop = data[data[\"Genre\"] == \"Pop\"]"
   ]
  },
  {
   "cell_type": "code",
   "execution_count": 10,
   "metadata": {},
   "outputs": [],
   "source": [
    "pv = pop.pivot_table(index=\"Year\", columns=\"Genre\", values=\"Popularity\")"
   ]
  },
  {
   "cell_type": "code",
   "execution_count": null,
   "metadata": {},
   "outputs": [],
   "source": [
    "pv.sort_values(by=\"Year\", ascending=True, axis=0)"
   ]
  },
  {
   "cell_type": "code",
   "execution_count": 12,
   "metadata": {},
   "outputs": [],
   "source": [
    "x = pv.index\n",
    "y = np.array(pv[\"Pop\"])\n",
    "\n",
    "xtrain, xtest = x[:int(len(x) * 0.8)], x[int(len(x) * 0.8):]\n",
    "ytrain, ytest = y[:int(len(y) * 0.8)], y[int(len(y) * 0.8):]"
   ]
  },
  {
   "cell_type": "code",
   "execution_count": null,
   "metadata": {},
   "outputs": [],
   "source": [
    "plt.scatter(xtrain, ytrain, color=\"blue\")\n",
    "plt.show()"
   ]
  },
  {
   "cell_type": "code",
   "execution_count": null,
   "metadata": {},
   "outputs": [],
   "source": [
    "ytrain"
   ]
  },
  {
   "cell_type": "code",
   "execution_count": null,
   "metadata": {},
   "outputs": [],
   "source": [
    "m = 1\n",
    "b = 1\n",
    "lr = 0\n",
    "ud = 0\n",
    "wi = 1\n",
    "he = 1\n",
    "mx = 1\n",
    "my = 1\n",
    "valid_err = 19\n",
    "err = err_ant = 1000\n",
    "\n",
    "best = [m, b, lr, ud, wi, he, mx, my]\n",
    "\n",
    "def f(x):\n",
    "    x = (x + lr) * wi * mx\n",
    "    # r = m*x + b\n",
    "    r = m*(x**3)\n",
    "    r = (r + ud) * he * my\n",
    "    return r\n",
    "\n",
    "def error(y_hat):\n",
    "    return np.sum((ytrain - y_hat)**2) / len(y)\n",
    "\n",
    "n = 5000\n",
    "\n",
    "# for i in range(n):\n",
    "i = 0\n",
    "while err > valid_err:\n",
    "    i += 1\n",
    "    y_hat = f(xtrain)\n",
    "    err = error(y_hat)\n",
    "\n",
    "    if err < err_ant:\n",
    "        print(f\"b: {round(b, 2)} m: {round(m, 2)} lr: {round(lr, 2)} ud: {round(ud, 2)} wi: {round(wi, 2)} he: {round(he, 2)} mx: {round(mx, 2)} my: {round(my, 2)} error: {round(err, 2)}\")\n",
    "        best = [m, b, lr, ud, wi, he, mx, my]\n",
    "    else:\n",
    "        m = best[0] + random.uniform(-0.1, 0.1)\n",
    "        b = best[1] + random.uniform(-0.1, 0.1)\n",
    "        lr = best[2] + random.uniform(-0.1, 0.1)\n",
    "        ud = best[3] + random.uniform(-0.1, 0.1)\n",
    "        wi = best[4] + random.uniform(-0.1, 0.1)\n",
    "        he = best[5] + random.uniform(-0.1, 0.1)\n",
    "        mx = best[6] + random.uniform(-0.1, 0.1)\n",
    "        my = best[7] + random.uniform(-0.1, 0.1)\n",
    "\n",
    "    err_ant = err\n",
    "    \n",
    "    if err <= valid_err:\n",
    "        print(\"r: \", round(m, 2), round(b, 2), round(lr, 2), round(ud, 2), round(wi, 2), round(he, 2), round(mx, 2), round(my, 2))\n",
    "        break\n",
    "\n",
    "m, b, lr, ud, wi, he, mx, my = best\n",
    "y_hat = f(xtrain)\n",
    "err = error(y_hat)\n",
    "\n",
    "print(f\"{i}: b: {round(b, 2)} m: {round(m, 2)} lr: {round(lr, 2)} ud: {round(ud, 2)} wi: {round(wi, 2)} he: {round(he, 2)} mx: {round(mx, 2)} my: {round(my, 2)} error: {round(err, 2)}\")\n",
    "\n"
   ]
  },
  {
   "cell_type": "code",
   "execution_count": null,
   "metadata": {},
   "outputs": [],
   "source": [
    "xo = x.copy()\n",
    "yo = f(xo)\n",
    "\n",
    "yrest = f(xtest)\n",
    "plt.scatter(xtrain, ytrain, color=\"blue\")\n",
    "plt.scatter(xtest, ytest, color=\"green\")\n",
    "plt.scatter(xtest, yrest, color=\"red\")\n",
    "plt.plot(xo, yo, color='purple')\n",
    "plt.show()"
   ]
  }
 ],
 "metadata": {
  "kernelspec": {
   "display_name": "pyd",
   "language": "python",
   "name": "python3"
  },
  "language_info": {
   "codemirror_mode": {
    "name": "ipython",
    "version": 3
   },
   "file_extension": ".py",
   "mimetype": "text/x-python",
   "name": "python",
   "nbconvert_exporter": "python",
   "pygments_lexer": "ipython3",
   "version": "3.12.4"
  }
 },
 "nbformat": 4,
 "nbformat_minor": 2
}
