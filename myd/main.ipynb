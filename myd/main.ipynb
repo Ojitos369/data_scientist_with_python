{
 "cells": [
  {
   "cell_type": "code",
   "execution_count": 1,
   "metadata": {},
   "outputs": [],
   "source": [
    "import pandas as pd\n",
    "import seaborn as sns\n",
    "import matplotlib.pyplot as plt\n",
    "import numpy as np\n",
    "import random"
   ]
  },
  {
   "cell_type": "code",
   "execution_count": null,
   "metadata": {},
   "outputs": [],
   "source": [
    "df = pd.read_csv('files/hits.csv')\n",
    "df.head(3)"
   ]
  },
  {
   "cell_type": "code",
   "execution_count": null,
   "metadata": {},
   "outputs": [],
   "source": [
    "df.info()"
   ]
  },
  {
   "cell_type": "code",
   "execution_count": null,
   "metadata": {},
   "outputs": [],
   "source": [
    "df.describe()"
   ]
  },
  {
   "cell_type": "code",
   "execution_count": null,
   "metadata": {},
   "outputs": [],
   "source": [
    "df.groupby(\"Genre\").size()"
   ]
  },
  {
   "cell_type": "code",
   "execution_count": null,
   "metadata": {},
   "outputs": [],
   "source": [
    "data = df.loc[:, [\"Genre\", \"Popularity\", \"Year\"]]\n",
    "data.fillna(0, inplace=True)\n",
    "data"
   ]
  },
  {
   "cell_type": "code",
   "execution_count": null,
   "metadata": {},
   "outputs": [],
   "source": [
    "plt.figure(figsize=(10, 5))\n",
    "sns.scatterplot(data=data, x=\"Year\", y=\"Popularity\", hue=\"Genre\")\n",
    "plt.legend(loc=\"center\", bbox_to_anchor=(1.2, 0.5))\n",
    "plt.show()"
   ]
  },
  {
   "cell_type": "code",
   "execution_count": 8,
   "metadata": {},
   "outputs": [],
   "source": [
    "pop = data[data[\"Genre\"] == \"Pop\"]"
   ]
  },
  {
   "cell_type": "code",
   "execution_count": 9,
   "metadata": {},
   "outputs": [],
   "source": [
    "pv = pop.pivot_table(index=\"Year\", columns=\"Genre\", values=\"Popularity\")"
   ]
  },
  {
   "cell_type": "code",
   "execution_count": null,
   "metadata": {},
   "outputs": [],
   "source": [
    "pv.sort_values(by=\"Year\", ascending=True, axis=0)"
   ]
  },
  {
   "cell_type": "code",
   "execution_count": 11,
   "metadata": {},
   "outputs": [],
   "source": [
    "x = pv.index\n",
    "y = np.array(pv[\"Pop\"])\n",
    "\n",
    "xtrain, xtest = x[:int(len(x) * 0.8)], x[int(len(x) * 0.8):]\n",
    "ytrain, ytest = y[:int(len(y) * 0.8)], y[int(len(y) * 0.8):]"
   ]
  },
  {
   "cell_type": "code",
   "execution_count": null,
   "metadata": {},
   "outputs": [],
   "source": [
    "plt.scatter(xtrain, ytrain, color=\"blue\")\n",
    "plt.show()"
   ]
  },
  {
   "cell_type": "code",
   "execution_count": null,
   "metadata": {},
   "outputs": [],
   "source": [
    "ytrain"
   ]
  },
  {
   "cell_type": "code",
   "execution_count": 19,
   "metadata": {},
   "outputs": [
    {
     "name": "stdout",
     "output_type": "stream",
     "text": [
      "b: 1 m: 1 lr: 0 ud: 0 wi: 1 he: 1 mx: 1 my: 1 error: 4.671427713246058e+19\n",
      "b: 1.04 m: 1.03 lr: 0.08 ud: 0.02 wi: 0.91 he: 1.04 mx: 0.91 my: 1.0 error: 1.6939584710521854e+19\n",
      "b: 1.09 m: 0.95 lr: 0.13 ud: -0.02 wi: 0.81 he: 1.09 mx: 0.86 my: 0.94 error: 5.356342074853616e+18\n",
      "b: 1.13 m: 0.91 lr: 0.12 ud: -0.01 wi: 0.87 he: 1.05 mx: 0.81 my: 1.0 error: 5.128021383131473e+18\n",
      "b: 1.04 m: 0.97 lr: 0.15 ud: -0.07 wi: 0.79 he: 1.12 mx: 0.8 my: 1.07 error: 4.05662365556079e+18\n",
      "b: 1.04 m: 0.96 lr: 0.06 ud: -0.07 wi: 0.84 he: 1.11 mx: 0.72 my: 1.11 error: 2.9008951370766387e+18\n",
      "b: 0.96 m: 1.01 lr: 0.02 ud: 0.0 wi: 0.75 he: 1.15 mx: 0.68 my: 1.01 error: 1.0728586861145306e+18\n",
      "b: 0.89 m: 0.94 lr: -0.03 ud: -0.05 wi: 0.78 he: 1.1 mx: 0.65 my: 0.96 error: 7.501668620517755e+17\n",
      "b: 0.8 m: 0.96 lr: 0.04 ud: 0.01 wi: 0.73 he: 1.17 mx: 0.66 my: 0.95 error: 6.552649422550963e+17\n",
      "b: 0.82 m: 1.0 lr: 0.06 ud: 0.02 wi: 0.7 he: 1.16 mx: 0.61 my: 0.91 error: 3.162733417806894e+17\n",
      "b: 0.86 m: 0.93 lr: 0.03 ud: 0.04 wi: 0.67 he: 1.22 mx: 0.53 my: 0.9 error: 1.0169091049264078e+17\n",
      "b: 0.88 m: 0.99 lr: -0.0 ud: 0.05 wi: 0.68 he: 1.23 mx: 0.46 my: 0.88 error: 4.841180902363644e+16\n",
      "b: 0.92 m: 0.9 lr: -0.09 ud: 0.1 wi: 0.77 he: 1.3 mx: 0.39 my: 0.87 error: 3.5382921221989644e+16\n",
      "b: 0.85 m: 1.0 lr: -0.09 ud: 0.14 wi: 0.83 he: 1.31 mx: 0.34 my: 0.94 error: 3.4788318735802628e+16\n",
      "b: 0.9 m: 0.92 lr: -0.14 ud: 0.06 wi: 0.75 he: 1.26 mx: 0.35 my: 1.0 error: 2.0383526417798108e+16\n",
      "b: 0.86 m: 0.98 lr: -0.2 ud: 0.03 wi: 0.77 he: 1.29 mx: 0.3 my: 0.95 error: 9414597492470380.0\n",
      "b: 0.83 m: 0.98 lr: -0.15 ud: 0.04 wi: 0.86 he: 1.38 mx: 0.24 my: 0.92 error: 5462747539536528.0\n",
      "b: 0.76 m: 1.05 lr: -0.21 ud: -0.05 wi: 0.76 he: 1.3 mx: 0.27 my: 0.86 error: 5364954162336957.0\n",
      "b: 0.75 m: 1.01 lr: -0.19 ud: -0.01 wi: 0.71 he: 1.4 mx: 0.21 my: 0.91 error: 854869073573745.5\n",
      "b: 0.77 m: 1.09 lr: -0.13 ud: -0.07 wi: 0.73 he: 1.31 mx: 0.12 my: 0.92 error: 40656610950509.76\n",
      "b: 0.84 m: 1.01 lr: -0.18 ud: 0.02 wi: 0.74 he: 1.25 mx: 0.12 my: 0.87 error: 34235366607519.6\n",
      "b: 0.89 m: 0.98 lr: -0.15 ud: -0.01 wi: 0.69 he: 1.18 mx: 0.07 my: 0.83 error: 462616860715.06\n",
      "b: 0.84 m: 0.95 lr: -0.17 ud: 0.04 wi: 0.66 he: 1.21 mx: 0.05 my: 0.84 error: 33991610427.31\n",
      "b: 0.82 m: 1.01 lr: -0.11 ud: -0.0 wi: 0.74 he: 1.3 mx: 0.02 my: 0.85 error: 1732643645.11\n",
      "b: 0.79 m: 1.01 lr: -0.09 ud: 0.09 wi: 0.73 he: 1.22 mx: 0.0 my: 0.92 error: 2300.62\n",
      "b: 0.7 m: 1.1 lr: -0.04 ud: 0.19 wi: 0.83 he: 1.22 mx: 0.0 my: 0.85 error: 1034.76\n",
      "b: 0.63 m: 1.05 lr: -0.11 ud: 0.28 wi: 0.86 he: 1.12 mx: 0.0 my: 0.76 error: 283.17\n",
      "b: 0.54 m: 1.15 lr: -0.18 ud: 0.27 wi: 0.9 he: 1.08 mx: 0.0 my: 0.81 error: 42.25\n",
      "b: 0.62 m: 1.19 lr: -0.12 ud: 0.31 wi: 0.88 he: 1.0 mx: 0.0 my: 0.72 error: 41.76\n",
      "b: 0.67 m: 1.27 lr: -0.03 ud: 0.29 wi: 0.97 he: 1.06 mx: 0.0 my: 0.66 error: 27.76\n",
      "b: 0.75 m: 1.33 lr: -0.12 ud: 0.2 wi: 0.96 he: 1.1 mx: 0.0 my: 0.61 error: 23.04\n",
      "b: 0.73 m: 1.25 lr: -0.1 ud: 0.2 wi: 0.99 he: 1.0 mx: 0.0 my: 0.53 error: 19.88\n",
      "b: 0.73 m: 1.2 lr: -0.14 ud: 0.22 wi: 0.96 he: 0.97 mx: 0.0 my: 0.46 error: 19.69\n",
      "b: 0.69 m: 1.12 lr: -0.18 ud: 0.25 wi: 1.02 he: 0.96 mx: 0.0 my: 0.46 error: 19.35\n",
      "b: 0.67 m: 1.13 lr: -0.17 ud: 0.26 wi: 1.11 he: 1.03 mx: 0.0 my: 0.46 error: 19.31\n",
      "r:  1.13 0.67 -0.17 0.26 1.11 1.03 0.0 0.46\n",
      "24950: b: 0.67 m: 1.13 lr: -0.17 ud: 0.26 wi: 1.11 he: 1.03 mx: 0.0 my: 0.46 error: 19.31\n"
     ]
    }
   ],
   "source": [
    "# ytrain = y\n",
    "# xtrain = x\n",
    "\n",
    "m = 1\n",
    "b = 1\n",
    "lr = 0\n",
    "ud = 0\n",
    "wi = 1\n",
    "he = 1\n",
    "mx = 1\n",
    "my = 1\n",
    "valid_err = 19.35\n",
    "err = best_err = err_ant = 1e50\n",
    "\n",
    "best = [m, b, lr, ud, wi, he, mx, my]\n",
    "\n",
    "def mf(x):\n",
    "    x = (x + lr) * wi * mx\n",
    "    # res = m*x + b\n",
    "    res = m*(x**3)\n",
    "    res = (res + ud) * he * my\n",
    "    return res\n",
    "\n",
    "def error(y_hat):\n",
    "    return np.sum((ytrain - y_hat)**2) / len(y)\n",
    "\n",
    "n = 1000\n",
    "\n",
    "i = 0\n",
    "# for i in range(n):\n",
    "while True:\n",
    "    i += 1\n",
    "    y_hat = mf(xtrain)\n",
    "    err = error(y_hat)\n",
    "\n",
    "    # print(f\"{best_err} -> {err}\", err < best_err)\n",
    "    if err < best_err:\n",
    "        print(f\"b: {round(b, 2)} m: {round(m, 2)} lr: {round(lr, 2)} ud: {round(ud, 2)} wi: {round(wi, 2)} he: {round(he, 2)} mx: {round(mx, 2)} my: {round(my, 2)} error: {round(err, 2)}\")\n",
    "        # print(f\"{best_err} -> {err}\", err < best_err)\n",
    "        best = [m, b, lr, ud, wi, he, mx, my]\n",
    "        best_err = err\n",
    "    else:\n",
    "        m = best[0] + random.uniform(-0.1, 0.1)\n",
    "        b = best[1] + random.uniform(-0.1, 0.1)\n",
    "        lr = best[2] + random.uniform(-0.1, 0.1)\n",
    "        ud = best[3] + random.uniform(-0.1, 0.1)\n",
    "        wi = best[4] + random.uniform(-0.1, 0.1)\n",
    "        he = best[5] + random.uniform(-0.1, 0.1)\n",
    "        mx = best[6] + random.uniform(-0.1, 0.1)\n",
    "        my = best[7] + random.uniform(-0.1, 0.1)\n",
    "    \n",
    "    err_ant = err\n",
    "    \n",
    "    if err <= valid_err:\n",
    "        print(\"r: \", round(m, 2), round(b, 2), round(lr, 2), round(ud, 2), round(wi, 2), round(he, 2), round(mx, 2), round(my, 2))\n",
    "        break\n",
    "\n",
    "m, b, lr, ud, wi, he, mx, my = best\n",
    "y_hat = mf(xtrain)\n",
    "err = error(y_hat)\n",
    "\n",
    "print(f\"{i}: b: {round(b, 2)} m: {round(m, 2)} lr: {round(lr, 2)} ud: {round(ud, 2)} wi: {round(wi, 2)} he: {round(he, 2)} mx: {round(mx, 2)} my: {round(my, 2)} error: {round(err, 2)}\")\n",
    "\n",
    "\n"
   ]
  },
  {
   "cell_type": "code",
   "execution_count": null,
   "metadata": {},
   "outputs": [],
   "source": [
    "def mt(x):\n",
    "    x = (x + lr) * wi * mx\n",
    "    # r = m*x + b\n",
    "    res = m*(x**3)\n",
    "    res = (res + ud) * he * my\n",
    "    return res\n",
    "\n",
    "xt = np.linspace(-10, 10, 100)\n",
    "yt = mt(xt)\n",
    "plt.plot(xt, yt, color=\"red\")\n",
    "plt.show()"
   ]
  },
  {
   "cell_type": "code",
   "execution_count": 20,
   "metadata": {},
   "outputs": [
    {
     "data": {
      "image/png": "[encoded data removed]",
      "text/plain": [
       "<Figure size 640x480 with 1 Axes>"
      ]
     },
     "metadata": {},
     "output_type": "display_data"
    }
   ],
   "source": [
    "xo = x.copy()\n",
    "yo = mf(xo)\n",
    "\n",
    "yrest = mf(xtest)\n",
    "plt.scatter(xtrain, ytrain, color=\"blue\")\n",
    "plt.scatter(xtest, ytest, color=\"green\")\n",
    "plt.scatter(xtest, yrest, color=\"red\")\n",
    "plt.plot(xo, yo, color='purple')\n",
    "plt.show()"
   ]
  }
 ],
 "metadata": {
  "kernelspec": {
   "display_name": "pyd",
   "language": "python",
   "name": "python3"
  },
  "language_info": {
   "codemirror_mode": {
    "name": "ipython",
    "version": 3
   },
   "file_extension": ".py",
   "mimetype": "text/x-python",
   "name": "python",
   "nbconvert_exporter": "python",
   "pygments_lexer": "ipython3",
   "version": "3.12.4"
  }
 },
 "nbformat": 4,
 "nbformat_minor": 2
}
