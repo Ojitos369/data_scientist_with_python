{
  "cells": [
    {
      "cell_type": "code",
      "execution_count": null,
      "metadata": {
        "id": "fQ_FYZP1HAZn"
      },
      "outputs": [],
      "source": [
        "import numpy as np\n",
        "from matplotlib import pyplot\n",
        "from numpy.random import normal\n",
        "from scipy.stats import norm"
      ]
    },
    {
      "cell_type": "code",
      "execution_count": null,
      "metadata": {
        "colab": {
          "base_uri": "https://localhost:8080/",
          "height": 268
        },
        "id": "3K9Zno_vHWM_",
        "outputId": "47f6fadd-1df6-4f39-8981-fb7309e90ea5"
      },
      "outputs": [],
      "source": []
    },
    {
      "cell_type": "markdown",
      "metadata": {
        "id": "h5cuw05oH2E7"
      },
      "source": [
        "## Estimación paramétrica"
      ]
    },
    {
      "cell_type": "code",
      "execution_count": null,
      "metadata": {
        "colab": {
          "base_uri": "https://localhost:8080/",
          "height": 265
        },
        "id": "M4jq92dZHY7X",
        "outputId": "8aaa428a-67fd-47c1-e4ac-c5b0f0526962"
      },
      "outputs": [],
      "source": []
    },
    {
      "cell_type": "markdown",
      "metadata": {
        "id": "yufGLB8qJEb0"
      },
      "source": [
        "# Estimación no paramétrica\n",
        "\n",
        "`Kernel Density estimation`\n",
        "* [parámetro de suavizado]: smoothing parameter\n",
        "* [función base]: basis function\n",
        "\n",
        "https://scikit-learn.org/stable/modules/density.html\n"
      ]
    },
    {
      "cell_type": "code",
      "execution_count": null,
      "metadata": {
        "colab": {
          "base_uri": "https://localhost:8080/",
          "height": 265
        },
        "id": "AU7_H7lpIDKv",
        "outputId": "e313217a-df5f-4d69-a289-a43c28c14288"
      },
      "outputs": [],
      "source": []
    },
    {
      "cell_type": "code",
      "execution_count": null,
      "metadata": {
        "id": "SugfzIFjJkfa"
      },
      "outputs": [],
      "source": []
    }
  ],
  "metadata": {
    "colab": {
      "provenance": []
    },
    "kernelspec": {
      "display_name": "Python 3",
      "name": "python3"
    }
  },
  "nbformat": 4,
  "nbformat_minor": 0
}
